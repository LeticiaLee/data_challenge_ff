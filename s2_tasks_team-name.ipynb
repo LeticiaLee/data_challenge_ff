{
 "cells": [
  {
   "cell_type": "markdown",
   "id": "ff1f0f06-ae31-4be8-9efb-9b80f12bc062",
   "metadata": {},
   "source": [
    "<div style=\"display: flex; justify-content: space-between; align-items: center; margin-bottom: 40px; margin-top: 0;\">\n",
    "    <div style=\"flex: 0 0 auto; margin-left: 0; margin-bottom: 0; margin-top: 0;\">\n",
    "        <img src=\"./pics/UCSD Logo.png\" alt=\"UCSD Logo\" style=\"width: 179px; margin-bottom: 0px; margin-top: 20px;\">\n",
    "    </div>\n",
    "    <div style=\"flex: 0 0 auto; margin-left: auto; margin-bottom: 0; margin-top: 20px;\">\n",
    "        <img src=\"./pics/LANL-logo.png\" alt=\"LANL Logo\" style=\"width: 200px; margin-bottom: 0px;\">\n",
    "    </div>\n",
    "    <div style=\"flex: 0 0 auto; margin-left: auto; margin-bottom: 0; margin-top: 20px;\">\n",
    "        <img src=\"./pics/prowess.png\" alt=\"Prowess Logo\" style=\"width: 200px; margin-bottom: 0px;\">\n",
    "    </div>\n",
    "    <div style=\"flex: 0 0 auto; margin-left: auto; margin-bottom: 0; margin-top: 20px;\">\n",
    "        <img src=\"./pics/wildfire.png\" alt=\"WildFire Logo\" width=\"100\"/>\n",
    "    </div>\n",
    "</div>\n",
    "\n",
    "<h1 style=\"text-align: center; font-size: 48px; margin-top: 0;\">Fire-Ready Forests Data Challenge</h1>"
   ]
  },
  {
   "cell_type": "markdown",
   "id": "6ed46a75-51c5-4b78-b05a-0f7ae5889b58",
   "metadata": {},
   "source": [
    "**Team Name:** \n",
    "**Members:**\n",
    "- Member A\n",
    "- Member B"
   ]
  },
  {
   "cell_type": "markdown",
   "id": "514cb056-8913-4ca7-bc09-bbc4d6a42f68",
   "metadata": {},
   "source": [
    "### Task 1\n",
    "\n",
    "In Sprint 1, you explored the FIA database in a dedicated notebook. In that notebook, there is a comprehensive description of the Independence Lake site. Using that notebook as your guide,  describe details about the site you chose. Make a map of the site and use external sources of information to give a brief description of the site (ecosystem, where it is located, what elevation it is at, etc.). Include at least one figure in your response."
   ]
  },
  {
   "cell_type": "code",
   "execution_count": null,
   "id": "391386ec-dfa7-455d-8f63-af4d648226ab",
   "metadata": {},
   "outputs": [],
   "source": [
    "# Add your code"
   ]
  },
  {
   "cell_type": "markdown",
   "id": "d516b774-0d30-495b-8e6b-03d84bba2d9e",
   "metadata": {},
   "source": [
    "### Task 2\n",
    "\n",
    "Using the treelists for your site, describe each tree list and compare and contrast the differences between them. In your response, explain how the populations of these datasets compare (i.e. distributions, averages, is one dataset more detailed than the other, etc.). Describe some benefits and drawbacks of each tree list version. Provide at least 4 figures in your response."
   ]
  },
  {
   "cell_type": "code",
   "execution_count": null,
   "id": "0e12e2c7-5ae6-41b4-bcd9-d3a48a7af9b7",
   "metadata": {},
   "outputs": [],
   "source": [
    "# Add your code"
   ]
  },
  {
   "cell_type": "markdown",
   "id": "9bfb0c7f-b8f5-4e69-91a7-44c71aa51646",
   "metadata": {},
   "source": [
    "### Task 3\n",
    "\n",
    "Which tree list version creates the most representative tree list over the whole site? \n",
    "\n",
    "**Your Response:**"
   ]
  },
  {
   "cell_type": "markdown",
   "id": "0b5a9ff3-c32a-4db0-b863-13846fdbb6af",
   "metadata": {},
   "source": [
    "### Task 4\n",
    "\n",
    "In this sprint, we have shown you a few different ways to use a variety of data to create the tree lists. Describe some ways of using extra data or ways of combining the datasets that you think would improve the tree list - what data you would need, how you would implement it, and how that would improve the tree list. As a bonus, try writing (pseudo) code to implement your idea.\n",
    "\n",
    "**Your Response:**"
   ]
  },
  {
   "cell_type": "code",
   "execution_count": null,
   "id": "1f5d9c62-a0cd-4aee-988b-c4cc4daabe7e",
   "metadata": {},
   "outputs": [],
   "source": [
    "# Bonus Pseudo Code here"
   ]
  },
  {
   "cell_type": "markdown",
   "id": "70899844-2cfa-4d1c-81ef-b0f962e6a844",
   "metadata": {},
   "source": [
    "### Task 5\n",
    "\n",
    "Now that you have some experience creating tree lists and seeing how each method of creating these tree lists produced slightly different results, why are accurate tree lists so important? How would a more accurate tree list improve products like BurnPro3D?\n",
    "\n",
    "**Your Response:**"
   ]
  }
 ],
 "metadata": {
  "kernelspec": {
   "display_name": "Python 3 (ipykernel)",
   "language": "python",
   "name": "python3"
  },
  "language_info": {
   "codemirror_mode": {
    "name": "ipython",
    "version": 3
   },
   "file_extension": ".py",
   "mimetype": "text/x-python",
   "name": "python",
   "nbconvert_exporter": "python",
   "pygments_lexer": "ipython3",
   "version": "3.11.9"
  }
 },
 "nbformat": 4,
 "nbformat_minor": 5
}
