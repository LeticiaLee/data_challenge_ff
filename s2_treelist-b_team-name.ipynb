{
 "cells": [
  {
   "cell_type": "markdown",
   "id": "945ba973-7da6-4e0c-918d-c7f0ccd16c8b",
   "metadata": {},
   "source": [
    "<div style=\"display: flex; justify-content: space-between; align-items: center; margin-bottom: 40px; margin-top: 0;\">\n",
    "    <div style=\"flex: 0 0 auto; margin-left: 0; margin-bottom: 0; margin-top: 0;\">\n",
    "        <img src=\"./pics/UCSD Logo.png\" alt=\"UCSD Logo\" style=\"width: 179px; margin-bottom: 0px; margin-top: 20px;\">\n",
    "    </div>\n",
    "    <div style=\"flex: 0 0 auto; margin-left: auto; margin-bottom: 0; margin-top: 20px;\">\n",
    "        <img src=\"./pics/LANL-logo.png\" alt=\"LANL Logo\" style=\"width: 200px; margin-bottom: 0px;\">\n",
    "    </div>\n",
    "    <div style=\"flex: 0 0 auto; margin-left: auto; margin-bottom: 0; margin-top: 20px;\">\n",
    "        <img src=\"./pics/prowess.png\" alt=\"Prowess Logo\" style=\"width: 200px; margin-bottom: 0px;\">\n",
    "    </div>\n",
    "    <div style=\"flex: 0 0 auto; margin-left: auto; margin-bottom: 0; margin-top: 20px;\">\n",
    "        <img src=\"./pics/wildfire.png\" alt=\"WildFire Logo\" width=\"100\"/>\n",
    "    </div>\n",
    "</div>\n",
    "\n",
    "<h1 style=\"text-align: center; font-size: 48px; margin-top: 0;\">Fire-Ready Forests Data Challenge</h1>"
   ]
  },
  {
   "cell_type": "markdown",
   "id": "a75b060d-ac5c-4877-8e84-f6c5b571c76e",
   "metadata": {},
   "source": [
    "**Team Name:** \n",
    "\n",
    "\n",
    "**Members:**\n",
    "- Member A\n",
    "- Member B"
   ]
  },
  {
   "cell_type": "markdown",
   "id": "97219041-f37a-450c-9170-bd57d13b5f39",
   "metadata": {},
   "source": [
    "### List b - FastFuels Adjusted with ALS\n",
    "\n",
    "Remember to produce a csv file at the end of your code with the following name: `list-b_team-name.csv`."
   ]
  },
  {
   "cell_type": "code",
   "execution_count": null,
   "id": "0cd1eeef-a6a3-45a6-a11b-8bce93acb0ac",
   "metadata": {},
   "outputs": [],
   "source": [
    "# Your code here"
   ]
  }
 ],
 "metadata": {
  "kernelspec": {
   "display_name": "Python 3 (ipykernel)",
   "language": "python",
   "name": "python3"
  },
  "language_info": {
   "codemirror_mode": {
    "name": "ipython",
    "version": 3
   },
   "file_extension": ".py",
   "mimetype": "text/x-python",
   "name": "python",
   "nbconvert_exporter": "python",
   "pygments_lexer": "ipython3",
   "version": "3.11.9"
  }
 },
 "nbformat": 4,
 "nbformat_minor": 5
}
